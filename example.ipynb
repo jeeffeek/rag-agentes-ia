{
 "cells": [
  {
   "cell_type": "code",
   "execution_count": 1,
   "id": "d21b5e4d",
   "metadata": {},
   "outputs": [],
   "source": [
    "# Importação das bibliotecas necessárias para acessar o serviço Groq\n",
    "# e carregar o modelo de linguagem Llama 3.3 Versatile.\n",
    "from langchain_groq import ChatGroq\n",
    "from dotenv import load_dotenv\n",
    "import os\n",
    "\n",
    "# Carregar as variáveis de ambiente do arquivo .env\n",
    "load_dotenv()\n",
    "\n",
    "# Obter a chave da API do Groq a partir das variáveis de ambiente\n",
    "# Verificar se a chave da API foi definida corretamente\n",
    "api_key = os.getenv('GROG_API_KEY')\n",
    "if not api_key:\n",
    "    raise ValueError(\"GROG_API_KEY não está definida. Por favor, defina a chave da API no arquivo .env.\")\n",
    "\n",
    "# Inicializar o modelo de linguagem Llama 3.3 Versatile usando a chave da API\n",
    "llm = ChatGroq(\n",
    "    model_name=\"llama-3.3-70b-versatile\",\n",
    "    api_key=api_key\n",
    ")"
   ]
  },
  {
   "cell_type": "code",
   "execution_count": 2,
   "id": "8cf6b5a5",
   "metadata": {},
   "outputs": [
    {
     "name": "stdout",
     "output_type": "stream",
     "text": [
      "Resposta do modelo: content='A capital da França é Paris.' additional_kwargs={} response_metadata={'token_usage': {'completion_tokens': 9, 'prompt_tokens': 43, 'total_tokens': 52, 'completion_time': 0.001920244, 'prompt_time': 0.017961858, 'queue_time': 0.285294487, 'total_time': 0.019882102}, 'model_name': 'llama-3.3-70b-versatile', 'system_fingerprint': 'fp_2ddfbb0da0', 'service_tier': 'on_demand', 'finish_reason': 'stop', 'logprobs': None} id='run--899bb3d6-1b7d-457d-b08d-fa7bc641cf45-0' usage_metadata={'input_tokens': 43, 'output_tokens': 9, 'total_tokens': 52}\n"
     ]
    }
   ],
   "source": [
    "# Exemplo de uso do modelo de linguagem para invocar uma pergunta\n",
    "prompt = \"Qual é a capital da França?\"\n",
    "\n",
    "# Invocar o modelo de linguagem com o prompt\n",
    "response = llm.invoke(prompt)\n",
    "\n",
    "# Exibir a resposta do modelo\n",
    "print(f\"Resposta do modelo: {response}\")"
   ]
  },
  {
   "cell_type": "markdown",
   "id": "0c2ca0a3",
   "metadata": {},
   "source": [
    "### Com dados de fontes internas"
   ]
  },
  {
   "cell_type": "code",
   "execution_count": 3,
   "id": "d5e70b0b",
   "metadata": {},
   "outputs": [],
   "source": [
    "# URL do documento PDF que será utilizado como fonte de dados\n",
    "url = 'https://raw.githubusercontent.com/allanspadini/curso-flash-rag/main/m2m_strategy_and_objectives_development.pdf'\n"
   ]
  },
  {
   "cell_type": "code",
   "execution_count": 4,
   "id": "b5d7dda3",
   "metadata": {},
   "outputs": [],
   "source": [
    "# Importação do carregador de documentos PDF da biblioteca LangChain Community\n",
    "from langchain_community.document_loaders import PyPDFLoader\n",
    "\n",
    "# Carregar o documento PDF a partir da URL\n",
    "# Criar uma variável chamada `loader` que utiliza o PyPDFLoader para carregar o PDF\n",
    "loader = PyPDFLoader(url)\n",
    "\n",
    "# Carregar o documento PDF de forma que tenha vários blocos, ou seja, conteúdo por página\n",
    "pages = []\n",
    "\n",
    "# Utilizar o método lazy_load do loader para carregar as páginas do PDF\n",
    "for page in loader.lazy_load():\n",
    "    pages.append(page)"
   ]
  },
  {
   "cell_type": "code",
   "execution_count": 5,
   "id": "aa6f18d0",
   "metadata": {},
   "outputs": [
    {
     "name": "stdout",
     "output_type": "stream",
     "text": [
      "{'producer': 'Adobe PDF Library 17.0', 'creator': 'Adobe InDesign 18.2 (Windows)', 'creationdate': '2023-04-06T17:28:28-04:00', 'moddate': '2023-04-06T17:29:25-04:00', 'trapped': '/False', 'source': 'https://raw.githubusercontent.com/allanspadini/curso-flash-rag/main/m2m_strategy_and_objectives_development.pdf', 'total_pages': 78, 'page': 0, 'page_label': '1'}\n",
      "\n",
      "Conteúdo da primeira página: NASA’S \n",
      "MOON TO MARS \n",
      "STRATEGY AND \n",
      "OBJECTIVES \n",
      "DEVELOPMENT\n",
      "A blueprint for sustained \n",
      "human presence and \n",
      "exploration throughout \n",
      "the Solar System\n",
      "National Aeronautics and\n",
      "Space Administration\n",
      "\n"
     ]
    }
   ],
   "source": [
    "# Exibir os metadados\n",
    "print(f\"{pages[0].metadata}\\n\")\n",
    "\n",
    "# Explorar o conteúdo do primeiro bloco carregado\n",
    "print(f\"Conteúdo da primeira página: {pages[0].page_content}\\n\")"
   ]
  },
  {
   "cell_type": "code",
   "execution_count": 6,
   "id": "bc25e25e",
   "metadata": {},
   "outputs": [
    {
     "name": "stderr",
     "output_type": "stream",
     "text": [
      "d:\\Python\\RAG_e_Agentes_de_IA\\.venv\\Lib\\site-packages\\tqdm\\auto.py:21: TqdmWarning: IProgress not found. Please update jupyter and ipywidgets. See https://ipywidgets.readthedocs.io/en/stable/user_install.html\n",
      "  from .autonotebook import tqdm as notebook_tqdm\n",
      "d:\\Python\\RAG_e_Agentes_de_IA\\.venv\\Lib\\site-packages\\huggingface_hub\\file_download.py:143: UserWarning: `huggingface_hub` cache-system uses symlinks by default to efficiently store duplicated files but your machine does not support them in C:\\Users\\Jefferson\\.cache\\huggingface\\hub\\models--mixedbread-ai--mxbai-embed-large-v1. Caching files will still work but in a degraded version that might require more space on your disk. This warning can be disabled by setting the `HF_HUB_DISABLE_SYMLINKS_WARNING` environment variable. For more details, see https://huggingface.co/docs/huggingface_hub/how-to-cache#limitations.\n",
      "To support symlinks on Windows, you either need to activate Developer Mode or to run Python as an administrator. In order to activate developer mode, see this article: https://docs.microsoft.com/en-us/windows/apps/get-started/enable-your-device-for-development\n",
      "  warnings.warn(message)\n",
      "Xet Storage is enabled for this repo, but the 'hf_xet' package is not installed. Falling back to regular HTTP download. For better performance, install the package with: `pip install huggingface_hub[hf_xet]` or `pip install hf_xet`\n"
     ]
    }
   ],
   "source": [
    "# Criação de uma base de dados vetorial para armazenar as informações do PDF, usando langchain\n",
    "# Importação do InMemoryVectorStore da biblioteca LangChain Core, que permite armazenar vetores em memória\n",
    "from langchain_core.vectorstores import InMemoryVectorStore\n",
    "\n",
    "# Usar o HuggingFaceEmbeddings para gerar embeddings dos textos, ou seja, tranformar o texto em vetores\n",
    "from langchain_huggingface import HuggingFaceEmbeddings\n",
    "\n",
    "# Modelo de embeddings do HuggingFace para transformar o texto em vetores, modelo aberto e gratuito\n",
    "embed_model = HuggingFaceEmbeddings(model_name=\"mixedbread-ai/mxbai-embed-large-v1\")\n",
    "# necessário instalar pip install sentence-transformers para usar HuggingFaceEmbeddings\n",
    "\n",
    "\n",
    "# Criar uma base de dados vetorial em memória a partir dos documentos carregados\n",
    "vector_store = InMemoryVectorStore.from_documents(pages, embed_model)\n",
    "\n"
   ]
  },
  {
   "cell_type": "code",
   "execution_count": 8,
   "id": "2d783267",
   "metadata": {},
   "outputs": [
    {
     "name": "stdout",
     "output_type": "stream",
     "text": [
      "Conteúdo: APPENDIX B: OBJECTIVES DEVELOPMENT PROCESS\n",
      "In accordance with the methodology principle of Architect from the Right, in November 2021, the NASA Executive Council \n",
      "tasked the mission directorates to draft a set of top-level goals and objectives necessary to achieve the Moon to Mars \n",
      "endeavor. The task would use Federated Board processes to reach consensus. \n",
      "The top-level goals and objectives were binned into four distinct tracks:\n",
      "• Science\n",
      "• Infrastructure\n",
      "• Transportation and Habitation\n",
      "• Operations\n",
      "Each of the mission directorate leaders on the Federated Board led the development of corresponding objectives: Science was \n",
      "led by the Science Mission Directorate; Infrastructure was led by the Space Technology Mission Directorate; Transportation \n",
      "and Habitation was led by the Exploration Systems Development Mission Directorate; and Operations was led by the Space \n",
      "Operations Mission Directorate. The Aeronautics Mission Directorate supported the Science Mission Directorate with the \n",
      "Science objectives and was actively involved in the entire objectives development process. The Federated Board reached \n",
      "consensus on an initial draft set of 45 objectives by March 2022.\n",
      "A graphical depiction of how goals and objectives were developed with an eye toward the blueprint vision, and how they work \n",
      "together to achieve that vision. With goals and objectives developed, the architecture will follow. \n",
      "42\n",
      "\n",
      "Metadados: {'producer': 'Adobe PDF Library 17.0', 'creator': 'Adobe InDesign 18.2 (Windows)', 'creationdate': '2023-04-06T17:28:28-04:00', 'moddate': '2023-04-06T17:29:25-04:00', 'trapped': '/False', 'source': 'https://raw.githubusercontent.com/allanspadini/curso-flash-rag/main/m2m_strategy_and_objectives_development.pdf', 'total_pages': 78, 'page': 42, 'page_label': '43'}\n",
      "\n",
      "Conteúdo: objective-baSed approach architect From the riGht / execute From the leFt\n",
      "Architect from the right \n",
      "– work backwards from \n",
      "the defined goal and \n",
      "establish a complete set \n",
      "of elements that will be \n",
      "required for success.\n",
      "NASA’s Moon to Mars strategy is guided by both a robust systems engineering process and \n",
      "five interrelated methodology principles.\n",
      "The first principle is a shift from a capability-\n",
      "based framework to an objective-based \n",
      "framework, in which top-level goals and \n",
      "objectives lead, guiding the integrated \n",
      "plan to meet them. The objective-based \n",
      "approach looks to the future and codifies \n",
      "an envisioned long-term state (the “what” \n",
      "in the systems engineering process). In a \n",
      "schedule vernacular, this envisioned long-\n",
      "term goal is how things look all the way to \n",
      "the right on the schedule. Through goals and \n",
      "objectives developed in detail, with rigor, with \n",
      "consistency across years and administrations, \n",
      "and with a mind toward value, an objective-\n",
      "based approach can guide the agency through \n",
      "external influences toward the strategic vision. \n",
      "Strategically developing the Moon to Mars \n",
      "endeavor lays the foundation for the long-term \n",
      "vision (“create a blueprint for sustained human \n",
      "presence and exploration throughout the solar \n",
      "system”) and allows for demonstration of the \n",
      "blueprint on Mars. Going to the Moon is in part \n",
      "to prepare for that initial Mars campaign. \n",
      "With the long-term goals and supporting objectives established, the \n",
      "architectural approach starts from the right (the desired end state)  \n",
      "and works backward to decompose the goals and objectives into \n",
      "a complete set of elements, systems, subsystems, etc. required \n",
      "to achieve success. By anchoring efforts toward the end state, \n",
      "this process of architecting from the right can be carried down with \n",
      "increasing specificity to establish a full plan. Once the wireframe is fully \n",
      "Once the wireframe is fully architected by looking toward the future \n",
      "state, element development follows from the left, integrating into the \n",
      "blueprint architecture as development advances.\n",
      "3.0 METHODOLOGY PRINCIPLES\n",
      "execute From the leFt \n",
      "13\n",
      "\n",
      "Metadados: {'producer': 'Adobe PDF Library 17.0', 'creator': 'Adobe InDesign 18.2 (Windows)', 'creationdate': '2023-04-06T17:28:28-04:00', 'moddate': '2023-04-06T17:29:25-04:00', 'trapped': '/False', 'source': 'https://raw.githubusercontent.com/allanspadini/curso-flash-rag/main/m2m_strategy_and_objectives_development.pdf', 'total_pages': 78, 'page': 13, 'page_label': '14'}\n",
      "\n"
     ]
    }
   ],
   "source": [
    "# Associando a variável ao VectorStore\n",
    "docs = vector_store\n",
    "\n",
    "# Realizar uma busca de similaridade no VectorStore para encontrar documentos relevantes\n",
    "docs = vector_store.similarity_search\n",
    "\n",
    "# Realizando a busca por similaridade\n",
    "#docs = vector_store.similarity_search()\n",
    "\n",
    "# Exemplo de busca por similaridade (PDF em inglês, então a consulta também deve ser em inglês)\n",
    "docs = vector_store.similarity_search(\"Objectives Development Process\")\n",
    "\n",
    "# Mostrar os resultados da busca com k=2 para limitar o número de resultados\n",
    "docs = vector_store.similarity_search(\"Objectives Development Process\", k=2)\n",
    "\n",
    "# Exibir os resultados da busca\n",
    "for doc in docs:\n",
    "    print(f\"Conteúdo: {doc.page_content}\\n\")\n",
    "    print(f\"Metadados: {doc.metadata}\\n\")\n"
   ]
  }
 ],
 "metadata": {
  "kernelspec": {
   "display_name": ".venv",
   "language": "python",
   "name": "python3"
  },
  "language_info": {
   "codemirror_mode": {
    "name": "ipython",
    "version": 3
   },
   "file_extension": ".py",
   "mimetype": "text/x-python",
   "name": "python",
   "nbconvert_exporter": "python",
   "pygments_lexer": "ipython3",
   "version": "3.11.5"
  }
 },
 "nbformat": 4,
 "nbformat_minor": 5
}
